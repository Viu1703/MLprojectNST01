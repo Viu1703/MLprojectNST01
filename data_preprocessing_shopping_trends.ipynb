{
 "cells": [
  {
   "cell_type": "code",
   "execution_count": null,
   "metadata": {},
   "outputs": [],
   "source": []
  },
  {
   "cell_type": "code",
   "execution_count": 79,
   "metadata": {},
   "outputs": [
    {
     "name": "stdout",
     "output_type": "stream",
     "text": [
      "   Customer ID  Age Item Purchased  Purchase Amount (USD)       Location Size  \\\n",
      "0            1   55         Blouse                 0.4125       Kentucky    L   \n",
      "1            2   19        Sweater                 0.5500          Maine    L   \n",
      "2            3   50          Jeans                 0.6625  Massachusetts    S   \n",
      "3            4   21        Sandals                 0.8750   Rhode Island    M   \n",
      "4            5   45         Blouse                 0.3625         Oregon    M   \n",
      "\n",
      "       Color  Season  Review Rating Subscription Status  ... Promo Code Used  \\\n",
      "0       Gray  Winter           0.24                 Yes  ...             Yes   \n",
      "1     Maroon  Winter           0.24                 Yes  ...             Yes   \n",
      "2     Maroon  Spring           0.24                 Yes  ...             Yes   \n",
      "3     Maroon  Spring           0.40                 Yes  ...             Yes   \n",
      "4  Turquoise  Spring           0.08                 Yes  ...             Yes   \n",
      "\n",
      "  Previous Purchases Preferred Payment Method Frequency of Purchases  \\\n",
      "0                 14                    Venmo            Fortnightly   \n",
      "1                  2                     Cash            Fortnightly   \n",
      "2                 23              Credit Card                 Weekly   \n",
      "3                 49                   PayPal                 Weekly   \n",
      "4                 31                   PayPal               Annually   \n",
      "\n",
      "   High Purchase    Age Group Gender_Male  Category_Clothing  \\\n",
      "0              0  Middle-Aged        True               True   \n",
      "1              1        Adult        True               True   \n",
      "2              1  Middle-Aged        True               True   \n",
      "3              1        Adult        True              False   \n",
      "4              0  Middle-Aged        True               True   \n",
      "\n",
      "  Category_Footwear  Category_Outerwear  \n",
      "0             False               False  \n",
      "1             False               False  \n",
      "2             False               False  \n",
      "3              True               False  \n",
      "4             False               False  \n",
      "\n",
      "[5 rows x 23 columns]\n",
      "<class 'pandas.core.frame.DataFrame'>\n",
      "RangeIndex: 3900 entries, 0 to 3899\n",
      "Data columns (total 23 columns):\n",
      " #   Column                    Non-Null Count  Dtype   \n",
      "---  ------                    --------------  -----   \n",
      " 0   Customer ID               3900 non-null   int64   \n",
      " 1   Age                       3900 non-null   int64   \n",
      " 2   Item Purchased            3900 non-null   object  \n",
      " 3   Purchase Amount (USD)     3900 non-null   float64 \n",
      " 4   Location                  3900 non-null   object  \n",
      " 5   Size                      3900 non-null   object  \n",
      " 6   Color                     3900 non-null   object  \n",
      " 7   Season                    3900 non-null   object  \n",
      " 8   Review Rating             3900 non-null   float64 \n",
      " 9   Subscription Status       3900 non-null   category\n",
      " 10  Payment Method            3900 non-null   object  \n",
      " 11  Shipping Type             3900 non-null   object  \n",
      " 12  Discount Applied          3900 non-null   object  \n",
      " 13  Promo Code Used           3900 non-null   object  \n",
      " 14  Previous Purchases        3900 non-null   int64   \n",
      " 15  Preferred Payment Method  3900 non-null   object  \n",
      " 16  Frequency of Purchases    3900 non-null   object  \n",
      " 17  High Purchase             3900 non-null   int64   \n",
      " 18  Age Group                 3900 non-null   category\n",
      " 19  Gender_Male               3900 non-null   bool    \n",
      " 20  Category_Clothing         3900 non-null   bool    \n",
      " 21  Category_Footwear         3900 non-null   bool    \n",
      " 22  Category_Outerwear        3900 non-null   bool    \n",
      "dtypes: bool(4), category(2), float64(2), int64(4), object(11)\n",
      "memory usage: 541.3+ KB\n",
      "None\n"
     ]
    }
   ],
   "source": [
    "print(data.head())\n",
    "print(data.info())  # Check new features and data types"
   ]
  },
  {
   "cell_type": "code",
   "execution_count": 78,
   "metadata": {},
   "outputs": [],
   "source": [
    "data = pd.get_dummies(data, columns=['Gender', 'Category'], drop_first=True)"
   ]
  },
  {
   "cell_type": "code",
   "execution_count": 77,
   "metadata": {},
   "outputs": [],
   "source": [
    "bins = [0, 18, 35, 60, 100]\n",
    "labels = ['Youth', 'Adult', 'Middle-Aged', 'Senior']\n",
    "data['Age Group'] = pd.cut(data['Age'], bins=bins, labels=labels)"
   ]
  },
  {
   "cell_type": "code",
   "execution_count": 76,
   "metadata": {},
   "outputs": [],
   "source": [
    "data['High Purchase'] = (data['Purchase Amount (USD)'] > 0.5).astype(int)  # Assuming normalized values"
   ]
  },
  {
   "cell_type": "code",
   "execution_count": 75,
   "metadata": {},
   "outputs": [
    {
     "name": "stdout",
     "output_type": "stream",
     "text": [
      "       Purchase Amount (USD)  Review Rating\n",
      "count            3900.000000    3900.000000\n",
      "mean                0.497054       0.499979\n",
      "std                 0.296067       0.286489\n",
      "min                 0.000000       0.000000\n",
      "25%                 0.237500       0.240000\n",
      "50%                 0.500000       0.480000\n",
      "75%                 0.762500       0.760000\n",
      "max                 1.000000       1.000000\n"
     ]
    }
   ],
   "source": [
    "from sklearn.preprocessing import MinMaxScaler\n",
    "\n",
    "# Initialize the scaler\n",
    "min_max_scaler = MinMaxScaler()\n",
    "\n",
    "# Normalize 'Purchase Amount (USD)' and 'Review Rating'\n",
    "data[['Purchase Amount (USD)', 'Review Rating']] = min_max_scaler.fit_transform(data[['Purchase Amount (USD)', 'Review Rating']])\n",
    "\n",
    "# Verify normalization\n",
    "print(data[['Purchase Amount (USD)', 'Review Rating']].describe())"
   ]
  },
  {
   "cell_type": "code",
   "execution_count": 74,
   "metadata": {},
   "outputs": [
    {
     "name": "stdout",
     "output_type": "stream",
     "text": [
      "Requirement already satisfied: scikit-learn in c:\\users\\asus\\appdata\\local\\programs\\python\\python312\\lib\\site-packages (1.6.0)\n",
      "Requirement already satisfied: numpy>=1.19.5 in c:\\users\\asus\\appdata\\local\\programs\\python\\python312\\lib\\site-packages (from scikit-learn) (2.1.3)\n",
      "Requirement already satisfied: scipy>=1.6.0 in c:\\users\\asus\\appdata\\local\\programs\\python\\python312\\lib\\site-packages (from scikit-learn) (1.14.1)\n",
      "Requirement already satisfied: joblib>=1.2.0 in c:\\users\\asus\\appdata\\local\\programs\\python\\python312\\lib\\site-packages (from scikit-learn) (1.4.2)\n",
      "Requirement already satisfied: threadpoolctl>=3.1.0 in c:\\users\\asus\\appdata\\local\\programs\\python\\python312\\lib\\site-packages (from scikit-learn) (3.5.0)\n",
      "Note: you may need to restart the kernel to use updated packages.\n"
     ]
    },
    {
     "name": "stderr",
     "output_type": "stream",
     "text": [
      "\n",
      "[notice] A new release of pip is available: 24.2 -> 24.3.1\n",
      "[notice] To update, run: python.exe -m pip install --upgrade pip\n"
     ]
    }
   ],
   "source": [
    "pip install scikit-learn"
   ]
  },
  {
   "cell_type": "code",
   "execution_count": 73,
   "metadata": {},
   "outputs": [
    {
     "name": "stdout",
     "output_type": "stream",
     "text": [
      "<class 'pandas.core.frame.DataFrame'>\n",
      "RangeIndex: 3900 entries, 0 to 3899\n",
      "Data columns (total 19 columns):\n",
      " #   Column                    Non-Null Count  Dtype   \n",
      "---  ------                    --------------  -----   \n",
      " 0   Customer ID               3900 non-null   int64   \n",
      " 1   Age                       3900 non-null   int64   \n",
      " 2   Gender                    3900 non-null   object  \n",
      " 3   Item Purchased            3900 non-null   object  \n",
      " 4   Category                  3900 non-null   object  \n",
      " 5   Purchase Amount (USD)     3900 non-null   int64   \n",
      " 6   Location                  3900 non-null   object  \n",
      " 7   Size                      3900 non-null   object  \n",
      " 8   Color                     3900 non-null   object  \n",
      " 9   Season                    3900 non-null   object  \n",
      " 10  Review Rating             3900 non-null   float64 \n",
      " 11  Subscription Status       3900 non-null   category\n",
      " 12  Payment Method            3900 non-null   object  \n",
      " 13  Shipping Type             3900 non-null   object  \n",
      " 14  Discount Applied          3900 non-null   object  \n",
      " 15  Promo Code Used           3900 non-null   object  \n",
      " 16  Previous Purchases        3900 non-null   int64   \n",
      " 17  Preferred Payment Method  3900 non-null   object  \n",
      " 18  Frequency of Purchases    3900 non-null   object  \n",
      "dtypes: category(1), float64(1), int64(4), object(13)\n",
      "memory usage: 552.5+ KB\n",
      "None\n"
     ]
    }
   ],
   "source": [
    "print(data.info())"
   ]
  },
  {
   "cell_type": "code",
   "execution_count": 72,
   "metadata": {},
   "outputs": [],
   "source": [
    "# Example: Convert 'Age' to integer type if it's not already\n",
    "data['Age'] = data['Age'].astype(int)\n",
    "\n",
    "# Convert 'Subscription Status' to categorical type\n",
    "data['Subscription Status'] = data['Subscription Status'].astype('category')"
   ]
  },
  {
   "cell_type": "code",
   "execution_count": 71,
   "metadata": {},
   "outputs": [
    {
     "name": "stdout",
     "output_type": "stream",
     "text": [
      "Customer ID                   int64\n",
      "Age                           int64\n",
      "Gender                       object\n",
      "Item Purchased               object\n",
      "Category                     object\n",
      "Purchase Amount (USD)         int64\n",
      "Location                     object\n",
      "Size                         object\n",
      "Color                        object\n",
      "Season                       object\n",
      "Review Rating               float64\n",
      "Subscription Status          object\n",
      "Payment Method               object\n",
      "Shipping Type                object\n",
      "Discount Applied             object\n",
      "Promo Code Used              object\n",
      "Previous Purchases            int64\n",
      "Preferred Payment Method     object\n",
      "Frequency of Purchases       object\n",
      "dtype: object\n"
     ]
    }
   ],
   "source": [
    "print(data.dtypes)"
   ]
  },
  {
   "cell_type": "code",
   "execution_count": 70,
   "metadata": {},
   "outputs": [],
   "source": [
    "# Example: Remove outliers\n",
    "data = data[~((data['Purchase Amount (USD)'] < (Q1 - 1.5 * IQR)) | (data['Purchase Amount (USD)'] > (Q3 + 1.5 * IQR)))]\n",
    "\n",
    "# Alternatively, cap outliers\n",
    "data.loc[data['Purchase Amount (USD)'] > (Q3 + 1.5 * IQR), 'Purchase Amount (USD)'] = Q3 + 1.5 * IQR"
   ]
  },
  {
   "cell_type": "code",
   "execution_count": 69,
   "metadata": {},
   "outputs": [
    {
     "name": "stdout",
     "output_type": "stream",
     "text": [
      "Outliers:\n",
      " Empty DataFrame\n",
      "Columns: [Customer ID, Age, Gender, Item Purchased, Category, Purchase Amount (USD), Location, Size, Color, Season, Review Rating, Subscription Status, Payment Method, Shipping Type, Discount Applied, Promo Code Used, Previous Purchases, Preferred Payment Method, Frequency of Purchases]\n",
      "Index: []\n"
     ]
    }
   ],
   "source": [
    "# Calculate Q1 (25th percentile) and Q3 (75th percentile)\n",
    "Q1 = data['Purchase Amount (USD)'].quantile(0.25)\n",
    "Q3 = data['Purchase Amount (USD)'].quantile(0.75)\n",
    "IQR = Q3 - Q1\n",
    "\n",
    "# Identify outliers\n",
    "outliers = data[(data['Purchase Amount (USD)'] < (Q1 - 1.5 * IQR)) | (data['Purchase Amount (USD)'] > (Q3 + 1.5 * IQR))]\n",
    "print(\"Outliers:\\n\", outliers)"
   ]
  },
  {
   "cell_type": "code",
   "execution_count": 68,
   "metadata": {},
   "outputs": [
    {
     "name": "stderr",
     "output_type": "stream",
     "text": [
      "C:\\Users\\Asus\\AppData\\Local\\Temp\\ipykernel_26260\\1722787408.py:2: FutureWarning: A value is trying to be set on a copy of a DataFrame or Series through chained assignment using an inplace method.\n",
      "The behavior will change in pandas 3.0. This inplace method will never work because the intermediate object on which we are setting values always behaves as a copy.\n",
      "\n",
      "For example, when doing 'df[col].method(value, inplace=True)', try using 'df.method({col: value}, inplace=True)' or df[col] = df[col].method(value) instead, to perform the operation inplace on the original object.\n",
      "\n",
      "\n",
      "  data['Review Rating'].fillna(data['Review Rating'].mean(), inplace=True)\n"
     ]
    }
   ],
   "source": [
    "# Example: Fill missing values for 'Review Rating' with the mean\n",
    "data['Review Rating'].fillna(data['Review Rating'].mean(), inplace=True)\n",
    "\n",
    "# Alternatively, drop rows with missing values\n",
    "# data.dropna(inplace=True)"
   ]
  },
  {
   "cell_type": "code",
   "execution_count": 67,
   "metadata": {},
   "outputs": [
    {
     "name": "stdout",
     "output_type": "stream",
     "text": [
      "Series([], dtype: int64)\n"
     ]
    }
   ],
   "source": [
    "\n",
    "missing_values = data.isnull().sum()\n",
    "print(missing_values[missing_values > 0])"
   ]
  },
  {
   "cell_type": "code",
   "execution_count": 66,
   "metadata": {},
   "outputs": [
    {
     "name": "stdout",
     "output_type": "stream",
     "text": [
      "       Customer ID          Age  Purchase Amount (USD)  Review Rating  \\\n",
      "count  3900.000000  3900.000000            3900.000000    3900.000000   \n",
      "mean   1950.500000    44.068462              59.764359       3.749949   \n",
      "std    1125.977353    15.207589              23.685392       0.716223   \n",
      "min       1.000000    18.000000              20.000000       2.500000   \n",
      "25%     975.750000    31.000000              39.000000       3.100000   \n",
      "50%    1950.500000    44.000000              60.000000       3.700000   \n",
      "75%    2925.250000    57.000000              81.000000       4.400000   \n",
      "max    3900.000000    70.000000             100.000000       5.000000   \n",
      "\n",
      "       Previous Purchases  \n",
      "count         3900.000000  \n",
      "mean            25.351538  \n",
      "std             14.447125  \n",
      "min              1.000000  \n",
      "25%             13.000000  \n",
      "50%             25.000000  \n",
      "75%             38.000000  \n",
      "max             50.000000  \n"
     ]
    }
   ],
   "source": [
    "#print(data.head())\n",
    "#print(data.info())\n",
    "print(data.describe())"
   ]
  },
  {
   "cell_type": "code",
   "execution_count": 65,
   "metadata": {},
   "outputs": [
    {
     "name": "stdout",
     "output_type": "stream",
     "text": [
      "   Customer ID  Age Gender Item Purchased  Category  Purchase Amount (USD)  \\\n",
      "0            1   55   Male         Blouse  Clothing                     53   \n",
      "1            2   19   Male        Sweater  Clothing                     64   \n",
      "2            3   50   Male          Jeans  Clothing                     73   \n",
      "3            4   21   Male        Sandals  Footwear                     90   \n",
      "4            5   45   Male         Blouse  Clothing                     49   \n",
      "\n",
      "        Location Size      Color  Season  Review Rating Subscription Status  \\\n",
      "0       Kentucky    L       Gray  Winter            3.1                 Yes   \n",
      "1          Maine    L     Maroon  Winter            3.1                 Yes   \n",
      "2  Massachusetts    S     Maroon  Spring            3.1                 Yes   \n",
      "3   Rhode Island    M     Maroon  Spring            3.5                 Yes   \n",
      "4         Oregon    M  Turquoise  Spring            2.7                 Yes   \n",
      "\n",
      "  Payment Method  Shipping Type Discount Applied Promo Code Used  \\\n",
      "0    Credit Card        Express              Yes             Yes   \n",
      "1  Bank Transfer        Express              Yes             Yes   \n",
      "2           Cash  Free Shipping              Yes             Yes   \n",
      "3         PayPal   Next Day Air              Yes             Yes   \n",
      "4           Cash  Free Shipping              Yes             Yes   \n",
      "\n",
      "   Previous Purchases Preferred Payment Method Frequency of Purchases  \n",
      "0                  14                    Venmo            Fortnightly  \n",
      "1                   2                     Cash            Fortnightly  \n",
      "2                  23              Credit Card                 Weekly  \n",
      "3                  49                   PayPal                 Weekly  \n",
      "4                  31                   PayPal               Annually  \n"
     ]
    }
   ],
   "source": [
    "import pandas as pd\n",
    "\n",
    "# Load the dataset\n",
    "data = pd.read_csv('shopping_trends_dataset.csv')\n",
    "\n",
    "# Display the first few rows of the dataset\n",
    "print(data.head())"
   ]
  },
  {
   "cell_type": "code",
   "execution_count": 64,
   "metadata": {},
   "outputs": [
    {
     "name": "stdout",
     "output_type": "stream",
     "text": [
      "Requirement already satisfied: pandas in c:\\users\\asus\\appdata\\local\\programs\\python\\python312\\lib\\site-packages (2.2.3)Note: you may need to restart the kernel to use updated packages.\n",
      "\n",
      "Requirement already satisfied: numpy>=1.26.0 in c:\\users\\asus\\appdata\\local\\programs\\python\\python312\\lib\\site-packages (from pandas) (2.1.3)\n",
      "Requirement already satisfied: python-dateutil>=2.8.2 in c:\\users\\asus\\appdata\\local\\programs\\python\\python312\\lib\\site-packages (from pandas) (2.9.0.post0)\n",
      "Requirement already satisfied: pytz>=2020.1 in c:\\users\\asus\\appdata\\local\\programs\\python\\python312\\lib\\site-packages (from pandas) (2024.2)\n",
      "Requirement already satisfied: tzdata>=2022.7 in c:\\users\\asus\\appdata\\local\\programs\\python\\python312\\lib\\site-packages (from pandas) (2024.2)\n",
      "Requirement already satisfied: six>=1.5 in c:\\users\\asus\\appdata\\local\\programs\\python\\python312\\lib\\site-packages (from python-dateutil>=2.8.2->pandas) (1.16.0)\n"
     ]
    },
    {
     "name": "stderr",
     "output_type": "stream",
     "text": [
      "\n",
      "[notice] A new release of pip is available: 24.2 -> 24.3.1\n",
      "[notice] To update, run: python.exe -m pip install --upgrade pip\n"
     ]
    }
   ],
   "source": [
    "pip install pandas"
   ]
  }
 ],
 "metadata": {
  "kernelspec": {
   "display_name": "Python 3",
   "language": "python",
   "name": "python3"
  },
  "language_info": {
   "codemirror_mode": {
    "name": "ipython",
    "version": 3
   },
   "file_extension": ".py",
   "mimetype": "text/x-python",
   "name": "python",
   "nbconvert_exporter": "python",
   "pygments_lexer": "ipython3",
   "version": "3.12.5"
  }
 },
 "nbformat": 4,
 "nbformat_minor": 2
}
